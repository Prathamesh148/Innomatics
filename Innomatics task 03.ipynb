{
 "cells": [
  {
   "cell_type": "markdown",
   "id": "cd1d0dcd",
   "metadata": {},
   "source": [
    "# Polar Coordinates"
   ]
  },
  {
   "cell_type": "code",
   "execution_count": 1,
   "id": "dbb2057a",
   "metadata": {},
   "outputs": [
    {
     "name": "stdout",
     "output_type": "stream",
     "text": [
      "Enter complex number:1+2j\n",
      "2.23606797749979\n",
      "1.1071487177940904\n"
     ]
    }
   ],
   "source": [
    "import cmath;\n",
    "a= complex(input(\"Enter complex number:\"))\n",
    "print(cmath.polar(a)[0])\n",
    "print(cmath.polar(a)[1])"
   ]
  },
  {
   "cell_type": "markdown",
   "id": "afef07ba",
   "metadata": {},
   "source": [
    "# Find Angle MBC"
   ]
  },
  {
   "cell_type": "code",
   "execution_count": 3,
   "id": "92d51d50",
   "metadata": {},
   "outputs": [
    {
     "name": "stdout",
     "output_type": "stream",
     "text": [
      "Enter 1st side:6\n",
      "Enter 2nd side:10\n",
      "Angle of MBC:31°\n"
     ]
    }
   ],
   "source": [
    "import math\n",
    "a=int(input(\"Enter 1st side:\"))\n",
    "b=int(input(\"Enter 2nd side:\"))\n",
    "c=math.hypot(a,b)\n",
    "d=c/2\n",
    "e=math.asin(1*a/c)\n",
    "f=math.sqrt((b**2+d**2)-(2*b*d*math.cos(e)))\n",
    "g=math.asin(math.sin(e)*d/f)\n",
    "print(\"Angle of MBC:\",int(round(math.degrees(g),0)),'\\u00B0',sep='')"
   ]
  },
  {
   "cell_type": "markdown",
   "id": "72c8bc65",
   "metadata": {},
   "source": [
    "# Triangle Quest 2"
   ]
  },
  {
   "cell_type": "code",
   "execution_count": 5,
   "id": "fabc4e11",
   "metadata": {},
   "outputs": [
    {
     "name": "stdout",
     "output_type": "stream",
     "text": [
      "Enter length of triangle:5\n",
      "1\n",
      "121\n",
      "12321\n",
      "1234321\n",
      "123454321\n"
     ]
    }
   ],
   "source": [
    "for i in range(1,int(input(\"Enter length of triangle:\"))+1):\n",
    "    print(int(((10**i-1)/(9))**2))\n",
    "\n"
   ]
  },
  {
   "cell_type": "markdown",
   "id": "2aa717fa",
   "metadata": {},
   "source": [
    "# Mod Divmod"
   ]
  },
  {
   "cell_type": "code",
   "execution_count": 9,
   "id": "b4b0f5d7",
   "metadata": {},
   "outputs": [
    {
     "name": "stdout",
     "output_type": "stream",
     "text": [
      "6\n",
      "10\n",
      "0.6\n",
      "6\n",
      "(0, 6)\n"
     ]
    }
   ],
   "source": [
    "a = int(input())\n",
    "b = int(input())\n",
    "print(a/b)\n",
    "print(a%b)\n",
    "print(divmod(a,b))"
   ]
  },
  {
   "cell_type": "markdown",
   "id": "6e880317",
   "metadata": {},
   "source": [
    "# Power - Mod Power"
   ]
  },
  {
   "cell_type": "code",
   "execution_count": null,
   "id": "cbb1e59b",
   "metadata": {},
   "outputs": [],
   "source": [
    "import math\n",
    "\n",
    "a = int(input())\n",
    "b = int(input())\n",
    "m = int(input())\n",
    "\n",
    "c = math.pow(a, b)\n",
    "d = c%m\n",
    "\n",
    "print(int(c))\n",
    "print(int(d))"
   ]
  },
  {
   "cell_type": "markdown",
   "id": "274d2a7f",
   "metadata": {},
   "source": [
    "# Integers Come In All Sizes"
   ]
  },
  {
   "cell_type": "code",
   "execution_count": 12,
   "id": "33e98aa3",
   "metadata": {},
   "outputs": [
    {
     "name": "stdout",
     "output_type": "stream",
     "text": [
      "Enter 1st number:2\n",
      "Enter 2nd number:4\n",
      "Enter 3rd number:6\n",
      "Enter 4th number:8\n",
      "output: 1679632\n"
     ]
    }
   ],
   "source": [
    "A = int(input(\"Enter 1st number:\"))\n",
    "B = int(input(\"Enter 2nd number:\"))\n",
    "C = int(input(\"Enter 3rd number:\"))\n",
    "D = int(input(\"Enter 4th number:\"))\n",
    "print(\"output:\",(A**B)+(C**D))"
   ]
  },
  {
   "cell_type": "markdown",
   "id": "b82f36a0",
   "metadata": {},
   "source": [
    "# Triangle Quest"
   ]
  },
  {
   "cell_type": "code",
   "execution_count": 21,
   "id": "b74d6946",
   "metadata": {},
   "outputs": [
    {
     "name": "stdout",
     "output_type": "stream",
     "text": [
      "Enter length of triangle:6\n",
      "----------------------------\n",
      "1\n",
      "22\n",
      "333\n",
      "4444\n",
      "55555\n"
     ]
    }
   ],
   "source": [
    "a=int(input(\"Enter length of triangle:\"))\n",
    "print(\"----------------------------\")\n",
    "for i in range(1,a):\n",
    "    print(int(i * 10**i / 9))"
   ]
  },
  {
   "cell_type": "code",
   "execution_count": null,
   "id": "21e0ab2b",
   "metadata": {},
   "outputs": [],
   "source": []
  }
 ],
 "metadata": {
  "kernelspec": {
   "display_name": "Python 3",
   "language": "python",
   "name": "python3"
  },
  "language_info": {
   "codemirror_mode": {
    "name": "ipython",
    "version": 3
   },
   "file_extension": ".py",
   "mimetype": "text/x-python",
   "name": "python",
   "nbconvert_exporter": "python",
   "pygments_lexer": "ipython3",
   "version": "3.8.8"
  }
 },
 "nbformat": 4,
 "nbformat_minor": 5
}
