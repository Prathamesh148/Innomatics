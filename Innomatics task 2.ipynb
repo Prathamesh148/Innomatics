{
 "cells": [
  {
   "cell_type": "markdown",
   "id": "b1d2c003",
   "metadata": {},
   "source": [
    "# List Comprehensions"
   ]
  },
  {
   "cell_type": "code",
   "execution_count": 13,
   "id": "d636e457",
   "metadata": {},
   "outputs": [
    {
     "name": "stdout",
     "output_type": "stream",
     "text": [
      "Enter a number 1st:1\n",
      "Enter a number 2nd:2\n",
      "Enter a number 3rd:3\n",
      "Enter a number 4th:4\n",
      "--------------------------------\n",
      "[[0, 0, 0], [0, 0, 1], [0, 0, 2], [0, 0, 3], [0, 1, 0], [0, 1, 1], [0, 1, 2], [0, 2, 0], [0, 2, 1], [0, 2, 3], [1, 0, 0], [1, 0, 1], [1, 0, 2], [1, 1, 0], [1, 1, 1], [1, 1, 3], [1, 2, 0], [1, 2, 2], [1, 2, 3]]\n"
     ]
    }
   ],
   "source": [
    "a = int(input(\"Enter a number 1st:\"))\n",
    "b = int(input(\"Enter a number 2nd:\"))\n",
    "c = int(input(\"Enter a number 3rd:\"))\n",
    "d = int(input(\"Enter a number 4th:\"))\n",
    "e = [];\n",
    "f = [];\n",
    "for X in range(a+1):\n",
    "    for Y in range(b+1):\n",
    "        for Z in range(c+1):\n",
    "            if X+Y+Z != d:\n",
    "                f = [X,Y,Z];\n",
    "                e.append(f);\n",
    "print(\"--------------------------------\")\n",
    "print(e);  "
   ]
  },
  {
   "cell_type": "markdown",
   "id": "bec69083",
   "metadata": {},
   "source": [
    "# Find the Runner-Up Score!"
   ]
  },
  {
   "cell_type": "code",
   "execution_count": 14,
   "id": "28e7d0aa",
   "metadata": {},
   "outputs": [
    {
     "name": "stdout",
     "output_type": "stream",
     "text": [
      "Enter a number:5\n",
      "Enter list:2 3 6 6 5\n",
      "Runner-up Score: 5\n"
     ]
    }
   ],
   "source": [
    "a= int(input(\"Enter a number:\"))\n",
    "b = [int(i) for i in input(\"Enter list:\").split()]\n",
    "c = set(b)\n",
    "c.remove(max(c))\n",
    "print(\"Runner-up Score:\",max(c))"
   ]
  },
  {
   "cell_type": "markdown",
   "id": "3a28411d",
   "metadata": {},
   "source": [
    "# Nested Lists"
   ]
  },
  {
   "cell_type": "code",
   "execution_count": 18,
   "id": "cf88f58a",
   "metadata": {},
   "outputs": [
    {
     "name": "stdout",
     "output_type": "stream",
     "text": [
      "Enter number of person:2\n",
      "Enter name:Prathamesh\n",
      "Enter Score:50.1\n",
      "Enter name:kashid\n",
      "Enter Score:60.1\n",
      "kashid have highest score\n"
     ]
    }
   ],
   "source": [
    "Result =[]\n",
    "scorelist = []\n",
    "for _ in range(int(input(\"Enter number of person:\"))):\n",
    "    name = input(\"Enter name:\")\n",
    "    score = float(input(\"Enter Score:\"))\n",
    "    Result+=[[name,score]]\n",
    "    scorelist+=[score]\n",
    "b=sorted(list(set(scorelist)))[1] \n",
    "for a,c in sorted(Result):\n",
    "    if c==b:\n",
    "        print(a,\"have highest score\")"
   ]
  },
  {
   "cell_type": "markdown",
   "id": "888ee94c",
   "metadata": {},
   "source": [
    "# Finding the percentage"
   ]
  },
  {
   "cell_type": "code",
   "execution_count": 1,
   "id": "65aeee4c",
   "metadata": {},
   "outputs": [
    {
     "name": "stdout",
     "output_type": "stream",
     "text": [
      "Enter number of person:2\n",
      "Enter name & marks of subject in list form:Prathamesh 11 22 33 44\n",
      "Enter name & marks of subject in list form:Kashid 55 66 77 88\n",
      "Enter person name whose % you want:Prathamesh\n",
      "Percentage of Prathamesh : 36.67 %\n"
     ]
    }
   ],
   "source": [
    "a = int(input(\"Enter number of person:\"))\n",
    "marks = {}\n",
    "for _ in range(a):\n",
    "    name, *line = input(\"Enter name & marks of subject in list form:\").split()\n",
    "    scores = list(map(float, line))\n",
    "    scores=sum(scores)/3\n",
    "    marks[name] = scores\n",
    "b = input(\"Enter person name whose % you want:\")    \n",
    "    \n",
    "print(\"Percentage of\",b,\":\",'%.2f' % marks[b],\"%\")"
   ]
  },
  {
   "cell_type": "markdown",
   "id": "968d220b",
   "metadata": {},
   "source": [
    "# Lists"
   ]
  },
  {
   "cell_type": "code",
   "execution_count": 2,
   "id": "29001803",
   "metadata": {},
   "outputs": [
    {
     "name": "stdout",
     "output_type": "stream",
     "text": [
      "Enter number of operation you want to preform:4\n",
      " Enter operation, index no. & element:insert 0 6\n",
      " Enter operation, index no. & element:insert 1 10\n",
      " Enter operation, index no. & element:print\n",
      "[6, 10]\n",
      " Enter operation, index no. & element:pop\n"
     ]
    }
   ],
   "source": [
    "a = int(input(\"Enter number of operation you want to preform:\"))\n",
    "L=[];\n",
    "for i in range(0,a):\n",
    "    cmd=input(\" Enter operation, index no. & element:\").split();\n",
    "    if cmd[0] == \"insert\":\n",
    "        L.insert(int(cmd[1]),int(cmd[2]))\n",
    "    elif cmd[0] == \"append\":\n",
    "        L.append(int(cmd[1]))\n",
    "    elif cmd[0] == \"pop\":\n",
    "        L.pop();\n",
    "    elif cmd[0] == \"print\":\n",
    "        print(L)\n",
    "    elif cmd[0] == \"remove\":\n",
    "        L.remove(int(cmd[1]))\n",
    "    elif cmd[0] == \"sort\":\n",
    "        L.sort();\n",
    "    else:\n",
    "        L.reverse();"
   ]
  },
  {
   "cell_type": "markdown",
   "id": "f3a33cb7",
   "metadata": {},
   "source": [
    "# Tuples"
   ]
  },
  {
   "cell_type": "code",
   "execution_count": 3,
   "id": "52e18508",
   "metadata": {},
   "outputs": [
    {
     "name": "stdout",
     "output_type": "stream",
     "text": [
      "Enter no of element:2\n",
      "Insert List:6 10\n",
      "5185166689943834965\n"
     ]
    }
   ],
   "source": [
    "a = int(input(\"Enter no of element:\"))\n",
    "int_list = [int(i) for i in input(\"Insert List:\").split()]\n",
    "int_tuple = tuple(int_list)\n",
    "print(hash(int_tuple))"
   ]
  }
 ],
 "metadata": {
  "kernelspec": {
   "display_name": "Python 3",
   "language": "python",
   "name": "python3"
  },
  "language_info": {
   "codemirror_mode": {
    "name": "ipython",
    "version": 3
   },
   "file_extension": ".py",
   "mimetype": "text/x-python",
   "name": "python",
   "nbconvert_exporter": "python",
   "pygments_lexer": "ipython3",
   "version": "3.8.8"
  }
 },
 "nbformat": 4,
 "nbformat_minor": 5
}
