{
 "cells": [
  {
   "cell_type": "markdown",
   "id": "6fd053aa",
   "metadata": {},
   "source": [
    "# Running Sum of 1d Array"
   ]
  },
  {
   "cell_type": "code",
   "execution_count": 34,
   "id": "6cd7ac83",
   "metadata": {},
   "outputs": [
    {
     "name": "stdout",
     "output_type": "stream",
     "text": [
      "[1, 3, 6, 10, 15, 21]\n"
     ]
    }
   ],
   "source": [
    "a= [1,2,3,4,5,6]\n",
    "def prathamesh(prices):\n",
    "   b=len(a)\n",
    "   c=[a[0]]\n",
    "\n",
    "   for i in range(1,b):\n",
    "      a[i]+=a[i-1]\n",
    "      c.append(a[i])\n",
    "   return c\n",
    "print(prathamesh(a))"
   ]
  },
  {
   "cell_type": "markdown",
   "id": "66fe0eef",
   "metadata": {},
   "source": [
    "# Shuffle the Array"
   ]
  },
  {
   "cell_type": "code",
   "execution_count": 33,
   "id": "988d0f80",
   "metadata": {},
   "outputs": [
    {
     "name": "stdout",
     "output_type": "stream",
     "text": [
      "[1, 3, 2, 4, 5, 6]\n"
     ]
    }
   ],
   "source": [
    "import random\n",
    "a=[1,2,3,4,5,6]\n",
    "class prathamesh(object):\n",
    "   def __init__(self, nums):\n",
    "      self.original = [x for x in nums]\n",
    "      self.temp = nums\n",
    "      self.indices = [x for x in range(len(nums))]\n",
    "   def shuffle(self):\n",
    "      if not len(self.temp):\n",
    "         return []\n",
    "      i = random.choice(self.indices)\n",
    "      j = random.choice(self.indices)\n",
    "      self.temp[i], self.temp[j] = self.temp[j], self.temp[i]\n",
    "      return self.temp\n",
    "b = prathamesh(a)\n",
    "print(b.shuffle())"
   ]
  },
  {
   "cell_type": "markdown",
   "id": "e2534e8d",
   "metadata": {},
   "source": [
    "# Kids With the Greatest Number of Candies"
   ]
  },
  {
   "cell_type": "code",
   "execution_count": 81,
   "id": "f00b681b",
   "metadata": {},
   "outputs": [
    {
     "name": "stdout",
     "output_type": "stream",
     "text": [
      "['true', 'true', 'true', 'false', 'true']\n"
     ]
    }
   ],
   "source": [
    "a=[2,3,5,1,3]\n",
    "b= 3\n",
    "c=[]\n",
    "for i in a:\n",
    "    if ((i+b)>=5):\n",
    "        d='true'\n",
    "        c.append(d) \n",
    "        i+=1\n",
    "        \n",
    "    else:\n",
    "        d='false'\n",
    "        c.append(d)  \n",
    "        i+=1     \n",
    "print(c)        "
   ]
  },
  {
   "cell_type": "code",
   "execution_count": null,
   "id": "61b14662",
   "metadata": {},
   "outputs": [],
   "source": []
  }
 ],
 "metadata": {
  "kernelspec": {
   "display_name": "Python 3",
   "language": "python",
   "name": "python3"
  },
  "language_info": {
   "codemirror_mode": {
    "name": "ipython",
    "version": 3
   },
   "file_extension": ".py",
   "mimetype": "text/x-python",
   "name": "python",
   "nbconvert_exporter": "python",
   "pygments_lexer": "ipython3",
   "version": "3.8.8"
  }
 },
 "nbformat": 4,
 "nbformat_minor": 5
}
