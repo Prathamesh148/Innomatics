{
 "cells": [
  {
   "cell_type": "markdown",
   "id": "0d8219b0",
   "metadata": {},
   "source": [
    "# SWAP CASE"
   ]
  },
  {
   "cell_type": "code",
   "execution_count": 2,
   "id": "55551870",
   "metadata": {},
   "outputs": [
    {
     "name": "stdout",
     "output_type": "stream",
     "text": [
      "Enter a string:Prathamesh Kashid\n",
      "After swapping: pRATHAMESH kASHID\n"
     ]
    }
   ],
   "source": [
    "def swap_case(s):\n",
    "    Output = '';\n",
    "    for char in s:\n",
    "        if(char.isupper()==True):\n",
    "            Output += (char.lower());\n",
    "        elif(char.islower()==True):\n",
    "            Output += (char.upper());\n",
    "        else:\n",
    "            Output += char;\n",
    "    return Output;\n",
    "a = input(\"Enter a string:\")\n",
    "b = swap_case(a)\n",
    "print(\"After swapping:\",b)"
   ]
  },
  {
   "cell_type": "markdown",
   "id": "165cab7d",
   "metadata": {},
   "source": [
    "# String Split and Join"
   ]
  },
  {
   "cell_type": "code",
   "execution_count": 3,
   "id": "efe3ae45",
   "metadata": {},
   "outputs": [
    {
     "name": "stdout",
     "output_type": "stream",
     "text": [
      "Enter ur string:My Name Is Prathamesh Kashid\n",
      "My-Name-Is-Prathamesh-Kashid\n"
     ]
    }
   ],
   "source": [
    "def split_and_join(line):\n",
    "    line = line.split()\n",
    "    line = \"-\".join(line)\n",
    "    return line\n",
    "\n",
    "a= input(\"Enter ur string:\")\n",
    "b= split_and_join(a)\n",
    "print(b)"
   ]
  },
  {
   "cell_type": "markdown",
   "id": "5280ca8d",
   "metadata": {},
   "source": [
    "# What's Your Name?"
   ]
  },
  {
   "cell_type": "code",
   "execution_count": 4,
   "id": "e77a86b8",
   "metadata": {},
   "outputs": [
    {
     "name": "stdout",
     "output_type": "stream",
     "text": [
      "Enter ur name:Prathamesh Kashid\n",
      "You enter ur name as: Prathamesh Kashid\n"
     ]
    }
   ],
   "source": [
    "a= input(\"Enter ur name:\")\n",
    "print(\"You enter ur name as:\",a)"
   ]
  },
  {
   "cell_type": "markdown",
   "id": "a4378502",
   "metadata": {},
   "source": [
    "# Mutations"
   ]
  },
  {
   "cell_type": "code",
   "execution_count": 9,
   "id": "2c4f0211",
   "metadata": {},
   "outputs": [
    {
     "name": "stdout",
     "output_type": "stream",
     "text": [
      "Enter Name:Prathemesh\n",
      "Enter word u had to replace in string:5 a\n",
      "Correct Name: Prathamesh\n"
     ]
    }
   ],
   "source": [
    "def mutate_string(string, position, character):\n",
    "    n = list(string)\n",
    "    n[position] = character\n",
    "    string = \"\".join(n)\n",
    "    return string\n",
    "\n",
    "a = input(\"Enter Name:\")\n",
    "i, c = input(\"Enter word u had to replace in string:\").split()\n",
    "b = mutate_string(a, int(i), c)\n",
    "print(\"Correct Name:\",b)"
   ]
  },
  {
   "cell_type": "markdown",
   "id": "604ddef0",
   "metadata": {},
   "source": [
    "# Find a string"
   ]
  },
  {
   "cell_type": "code",
   "execution_count": 2,
   "id": "6630f0ec",
   "metadata": {},
   "outputs": [
    {
     "name": "stdout",
     "output_type": "stream",
     "text": [
      "Enter a String:Prathamesh Kashid\n",
      "Enter substring:a\n",
      "Matching count 3\n"
     ]
    }
   ],
   "source": [
    "def count_substring(string, sub_string):\n",
    "    count=0\n",
    "    for i in range(len(string)):\n",
    "        if string[i:i+len(sub_string)]==sub_string:\n",
    "            count+=1\n",
    "    return count\n",
    "\n",
    "string = input(\"Enter a String:\").strip()\n",
    "sub_string = input(\"Enter substring:\").strip()\n",
    "count = count_substring(string, sub_string)\n",
    "print(\"Matching count\",count)"
   ]
  },
  {
   "cell_type": "markdown",
   "id": "76066c64",
   "metadata": {},
   "source": [
    "# String Validators"
   ]
  },
  {
   "cell_type": "code",
   "execution_count": 3,
   "id": "02edb5ff",
   "metadata": {},
   "outputs": [
    {
     "name": "stdout",
     "output_type": "stream",
     "text": [
      "Enter String:Prathamesh\n",
      "Checking entered string is Alphanumeric: True\n",
      "Checking entered string is Digit: False\n",
      "Checking entered string is in Lowercase: True\n",
      "Checking entered string is in Uppercase: True\n"
     ]
    }
   ],
   "source": [
    "s = input(\"Enter String:\")\n",
    "print(\"Checking entered string is Alphanumeric:\",any(map(str.isalnum, s)))\n",
    "print(\"Checking entered string is Digit:\",any(map(str.isdigit, s)))\n",
    "print(\"Checking entered string is in Lowercase:\",any(map(str.islower, s)))\n",
    "print(\"Checking entered string is in Uppercase:\",any(map(str.isupper, s)))"
   ]
  },
  {
   "cell_type": "markdown",
   "id": "b8e9a99d",
   "metadata": {},
   "source": [
    "# Text Alignment"
   ]
  },
  {
   "cell_type": "code",
   "execution_count": 19,
   "id": "a3c75cea",
   "metadata": {},
   "outputs": [
    {
     "name": "stdout",
     "output_type": "stream",
     "text": [
      "Enter thickness u want:5\n",
      "--------------------------------------\n",
      "    H    \n",
      "   HHH   \n",
      "  HHHHH  \n",
      " HHHHHHH \n",
      "HHHHHHHHH\n",
      "  HHHHH               HHHHH             \n",
      "  HHHHH               HHHHH             \n",
      "  HHHHH               HHHHH             \n",
      "  HHHHH               HHHHH             \n",
      "  HHHHH               HHHHH             \n",
      "  HHHHH               HHHHH             \n",
      "  HHHHHHHHHHHHHHHHHHHHHHHHH   \n",
      "  HHHHHHHHHHHHHHHHHHHHHHHHH   \n",
      "  HHHHHHHHHHHHHHHHHHHHHHHHH   \n",
      "  HHHHH               HHHHH             \n",
      "  HHHHH               HHHHH             \n",
      "  HHHHH               HHHHH             \n",
      "  HHHHH               HHHHH             \n",
      "  HHHHH               HHHHH             \n",
      "  HHHHH               HHHHH             \n",
      "                    HHHHHHHHH \n",
      "                     HHHHHHH  \n",
      "                      HHHHH   \n",
      "                       HHH    \n",
      "                        H     \n"
     ]
    }
   ],
   "source": [
    "thickness = int(input(\"Enter thickness u want:\"))\n",
    "print(\"--------------------------------------\")\n",
    "c = 'H'\n",
    "for i in range(thickness):\n",
    "    print((c*i).rjust(thickness-1)+c+(c*i).ljust(thickness-1))\n",
    "for i in range(thickness+1):\n",
    "    print((c*thickness).center(thickness*2)+(c*thickness).center(thickness*6))\n",
    "for i in range((thickness+1)//2):\n",
    "    print((c*thickness*5).center(thickness*6))    \n",
    "for i in range(thickness+1):\n",
    "    print((c*thickness).center(thickness*2)+(c*thickness).center(thickness*6))    \n",
    "for i in range(thickness):\n",
    "    print(((c*(thickness-i-1)).rjust(thickness)+c+(c*(thickness-i-1)).ljust(thickness)).rjust(thickness*6))"
   ]
  },
  {
   "cell_type": "markdown",
   "id": "c17957ef",
   "metadata": {},
   "source": [
    "# Text Wrap"
   ]
  },
  {
   "cell_type": "code",
   "execution_count": 25,
   "id": "9732534e",
   "metadata": {},
   "outputs": [
    {
     "name": "stdout",
     "output_type": "stream",
     "text": [
      "Enter a string:Prathamesh\n",
      "After which index u have to split:6\n",
      "After Splitting: Pratha\n",
      "After Splitting: mesh\n"
     ]
    }
   ],
   "source": [
    "import textwrap\n",
    "def wrap(string, max_width):\n",
    "    for i in range(0,len(string)+1,max_width):\n",
    "        result = string[i:i+max_width]\n",
    "        if len(result) == max_width:\n",
    "            print(\"After Splitting:\",result)\n",
    "        else:\n",
    "            return(result)\n",
    "string, a = input(\"Enter a string:\"), int(input(\"After which index u have to split:\"))\n",
    "b = wrap(string, a)\n",
    "print(\"After Splitting:\",b)"
   ]
  },
  {
   "cell_type": "markdown",
   "id": "94ec9fb7",
   "metadata": {},
   "source": [
    "# Designer Door Mat"
   ]
  },
  {
   "cell_type": "code",
   "execution_count": 27,
   "id": "6527409a",
   "metadata": {},
   "outputs": [
    {
     "name": "stdout",
     "output_type": "stream",
     "text": [
      "Enter Dimension Of Door Mat:9 27\n",
      "------------.|.------------\n",
      "---------.|..|..|.---------\n",
      "------.|..|..|..|..|.------\n",
      "---.|..|..|..|..|..|..|.---\n",
      "----------WELCOME----------\n",
      "---.|..|..|..|..|..|..|.---\n",
      "------.|..|..|..|..|.------\n",
      "---------.|..|..|.---------\n",
      "------------.|.------------\n"
     ]
    }
   ],
   "source": [
    "x,y = map(int,input(\"Enter Dimension Of Door Mat:\").split())\n",
    "items = list(range(1,x+1,2))\n",
    "items = items+items[::-1][1:]\n",
    "for i in items:\n",
    "    text= \"WELCOME\" if i == x else '.|.'*i\n",
    "    print (text.center(y,'-'))"
   ]
  },
  {
   "cell_type": "markdown",
   "id": "bb2fa7d3",
   "metadata": {},
   "source": [
    "# String Formatting"
   ]
  },
  {
   "cell_type": "code",
   "execution_count": 4,
   "id": "1261ad4a",
   "metadata": {},
   "outputs": [
    {
     "name": "stdout",
     "output_type": "stream",
     "text": [
      "Enter a last number u want:17\n",
      "----------------------------\n",
      "    1     1     1     1\n",
      "    2     2     2    10\n",
      "    3     3     3    11\n",
      "    4     4     4   100\n",
      "    5     5     5   101\n",
      "    6     6     6   110\n",
      "    7     7     7   111\n",
      "    8    10     8  1000\n",
      "    9    11     9  1001\n",
      "   10    12     A  1010\n",
      "   11    13     B  1011\n",
      "   12    14     C  1100\n",
      "   13    15     D  1101\n",
      "   14    16     E  1110\n",
      "   15    17     F  1111\n",
      "   16    20    10 10000\n",
      "   17    21    11 10001\n"
     ]
    }
   ],
   "source": [
    "def print_formatted(number):\n",
    "    width = len(bin(number)[2:])\n",
    "    for i in range(1, number+1):\n",
    "        deci = str(i)\n",
    "        octa = oct(i)[2:]\n",
    "        hexa = hex(i)[2:].upper()\n",
    "        bina = bin(i)[2:]\n",
    "        print(deci.rjust(width),octa.rjust(width),hexa.rjust(width),bina.rjust(width))\n",
    "a = int(input(\"Enter a last number u want:\"))\n",
    "print(\"----------------------------\")\n",
    "print_formatted(a)\n"
   ]
  },
  {
   "cell_type": "markdown",
   "id": "6beea4eb",
   "metadata": {},
   "source": [
    "# Alphabet Rangoli"
   ]
  },
  {
   "cell_type": "code",
   "execution_count": 34,
   "id": "6cca5fea",
   "metadata": {},
   "outputs": [
    {
     "name": "stdout",
     "output_type": "stream",
     "text": [
      "Enter a string:Prathamesh\n",
      "Length of row:5\n",
      "Prath\n",
      "amesh\n"
     ]
    }
   ],
   "source": [
    "def Ran(string, k):\n",
    "    temp = []\n",
    "    len_temp = 0\n",
    "    for item in string:\n",
    "        len_temp += 1\n",
    "        if item not in temp:\n",
    "            temp.append(item)\n",
    "        if len_temp == k:\n",
    "            print (''.join(temp))\n",
    "            temp = []\n",
    "            len_temp = 0\n",
    "string, k = input(\"Enter a string:\"), int(input(\"Length of row:\"))\n",
    "merge_the_tools(string, k)"
   ]
  },
  {
   "cell_type": "markdown",
   "id": "9e5c4905",
   "metadata": {},
   "source": [
    "# Capitalize!"
   ]
  },
  {
   "cell_type": "code",
   "execution_count": 8,
   "id": "cafc37f8",
   "metadata": {},
   "outputs": [
    {
     "name": "stdout",
     "output_type": "stream",
     "text": [
      "MYSELF PRATHAMESH KASHID\n"
     ]
    }
   ],
   "source": [
    "a= \"Myself Prathamesh Kashid\";\n",
    "print(a.upper());"
   ]
  },
  {
   "cell_type": "markdown",
   "id": "2047c0b9",
   "metadata": {},
   "source": [
    "# The Minion Game"
   ]
  },
  {
   "cell_type": "code",
   "execution_count": 3,
   "id": "94b6d1da",
   "metadata": {},
   "outputs": [
    {
     "name": "stdout",
     "output_type": "stream",
     "text": [
      "Enter a string:Prathamesh\n",
      "Stuart 55\n"
     ]
    }
   ],
   "source": [
    "def minion_game(string):\n",
    "    player1 = 0;\n",
    "    player2 = 0;\n",
    "    str_len = len(string)\n",
    "    for i in range(str_len):\n",
    "        if a[i] in \"AEIOU\":\n",
    "            player1 += (str_len)-i\n",
    "        else :\n",
    "            player2 += (str_len)-i\n",
    "    \n",
    "    if player1 > player2:\n",
    "        print(\"Kevin\", player1)\n",
    "    elif player1 < player2:\n",
    "        print(\"Stuart\",player2)\n",
    "    elif player1 == player2:\n",
    "        print(\"Draw\")\n",
    "    else :\n",
    "        print(\"Draw\")\n",
    "a = input(\"Enter a string:\")\n",
    "minion_game(a)"
   ]
  },
  {
   "cell_type": "markdown",
   "id": "49948c8d",
   "metadata": {},
   "source": [
    "# Merge the Tools!"
   ]
  },
  {
   "cell_type": "code",
   "execution_count": 6,
   "id": "99dfe9ac",
   "metadata": {},
   "outputs": [
    {
     "name": "stdout",
     "output_type": "stream",
     "text": [
      "Enter a string:Prathamesh\n",
      "Length of row:5\n",
      "Prath\n",
      "amesh\n"
     ]
    }
   ],
   "source": [
    "def pk(string, k):\n",
    "    temp = []\n",
    "    len_temp = 0\n",
    "    for item in string:\n",
    "        len_temp += 1\n",
    "        if item not in temp:\n",
    "            temp.append(item)\n",
    "        if len_temp == k:\n",
    "            print (''.join(temp))\n",
    "            temp = []\n",
    "            len_temp = 0\n",
    "string, k = input(\"Enter a string:\"), int(input(\"Length of row:\"))\n",
    "pk(string, k)"
   ]
  }
 ],
 "metadata": {
  "kernelspec": {
   "display_name": "Python 3",
   "language": "python",
   "name": "python3"
  },
  "language_info": {
   "codemirror_mode": {
    "name": "ipython",
    "version": 3
   },
   "file_extension": ".py",
   "mimetype": "text/x-python",
   "name": "python",
   "nbconvert_exporter": "python",
   "pygments_lexer": "ipython3",
   "version": "3.8.8"
  }
 },
 "nbformat": 4,
 "nbformat_minor": 5
}
