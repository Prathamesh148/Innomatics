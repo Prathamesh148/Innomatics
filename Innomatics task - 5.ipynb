{
 "cells": [
  {
   "cell_type": "markdown",
   "id": "58162617",
   "metadata": {},
   "source": [
    "# Detect Floating Point Number"
   ]
  },
  {
   "cell_type": "code",
   "execution_count": 3,
   "id": "646dd717",
   "metadata": {},
   "outputs": [
    {
     "name": "stdout",
     "output_type": "stream",
     "text": [
      "Enter a no.of number u want to check:2\n",
      "Enter a number:2\n",
      "Enter a number:6.6\n",
      "False\n",
      "True\n"
     ]
    }
   ],
   "source": [
    "import re\n",
    "a= int(input(\"Enter a no.of number u want to check:\"))\n",
    "numbers = []\n",
    "for i in range(a):\n",
    "    i = input(\"Enter a number:\")\n",
    "    numbers.append(i)\n",
    "for i in numbers:\n",
    "    print(bool(re.search(r'^[-+]?[0-9]*\\.[0-9]+$',i)))"
   ]
  },
  {
   "cell_type": "markdown",
   "id": "17e09855",
   "metadata": {},
   "source": [
    "# Re.split()"
   ]
  },
  {
   "cell_type": "code",
   "execution_count": 4,
   "id": "610e477e",
   "metadata": {},
   "outputs": [
    {
     "name": "stdout",
     "output_type": "stream",
     "text": [
      "100,00,00.00\n",
      "100\n",
      "00\n",
      "00\n",
      "00\n"
     ]
    }
   ],
   "source": [
    "import re\n",
    "regex_pattern = r\"[.,]\"\t\n",
    "print(\"\\n\".join(re.split(regex_pattern, input())))"
   ]
  },
  {
   "cell_type": "markdown",
   "id": "d7bf304d",
   "metadata": {},
   "source": [
    "# Group(), Groups() & Groupdict()"
   ]
  },
  {
   "cell_type": "code",
   "execution_count": 13,
   "id": "2362cd5f",
   "metadata": {},
   "outputs": [
    {
     "name": "stdout",
     "output_type": "stream",
     "text": [
      "Group: kashidprathamesh12@gmail.com\n",
      "Group: kashidprathamesh12\n",
      "Group: gmail\n",
      "Group: com\n",
      "Group: ('kashidprathamesh12', 'gmail', 'com')\n",
      "Groups: ('kashidprathamesh12', 'gmail', 'com')\n",
      "Group: {'user': 'kashidprathamesh12', 'website': 'gmail', 'extension': 'com'}\n"
     ]
    }
   ],
   "source": [
    "import re\n",
    "m = re.match(r'(\\w+)@(\\w+)\\.(\\w+)','kashidprathamesh12@gmail.com')\n",
    "print(\"Group:\",m.group(0))\n",
    "print(\"Group:\",m.group(1))\n",
    "print(\"Group:\",m.group(2))\n",
    "print(\"Group:\",m.group(3))\n",
    "print(\"Group:\",m.group(1,2,3))\n",
    "print(\"Groups:\",m.groups())\n",
    "m = re.match(r'(?P<user>\\w+)@(?P<website>\\w+)\\.(?P<extension>\\w+)','kashidprathamesh12@gmail.com')\n",
    "print(\"Group:\",m.groupdict())"
   ]
  },
  {
   "cell_type": "markdown",
   "id": "f6861718",
   "metadata": {},
   "source": [
    "# Re.findall() & Re.finditer()"
   ]
  },
  {
   "cell_type": "code",
   "execution_count": 16,
   "id": "92c0cfa1",
   "metadata": {},
   "outputs": [
    {
     "data": {
      "text/plain": [
       "['h',\n",
       " 't',\n",
       " 't',\n",
       " 'p',\n",
       " 's',\n",
       " 'e',\n",
       " 'n',\n",
       " 'w',\n",
       " 'i',\n",
       " 'k',\n",
       " 'i',\n",
       " 'p',\n",
       " 'e',\n",
       " 'd',\n",
       " 'i',\n",
       " 'a',\n",
       " 'o',\n",
       " 'r',\n",
       " 'g',\n",
       " 'w',\n",
       " 'i',\n",
       " 'k',\n",
       " 'i',\n",
       " 'M',\n",
       " 'a',\n",
       " 'c',\n",
       " 'h',\n",
       " 'i',\n",
       " 'n',\n",
       " 'e',\n",
       " '_',\n",
       " 'l',\n",
       " 'e',\n",
       " 'a',\n",
       " 'r',\n",
       " 'n',\n",
       " 'i',\n",
       " 'n',\n",
       " 'g']"
      ]
     },
     "execution_count": 16,
     "metadata": {},
     "output_type": "execute_result"
    }
   ],
   "source": [
    "import re\n",
    "re.findall(r'\\w','https://en.wikipedia.org/wiki/Machine_learning')"
   ]
  },
  {
   "cell_type": "code",
   "execution_count": 17,
   "id": "8cd91310",
   "metadata": {},
   "outputs": [
    {
     "data": {
      "text/plain": [
       "<callable_iterator at 0x22b2e0b4c70>"
      ]
     },
     "execution_count": 17,
     "metadata": {},
     "output_type": "execute_result"
    }
   ],
   "source": [
    "re.finditer(r'\\w','https://en.wikipedia.org/wiki/Machine_learning')"
   ]
  },
  {
   "cell_type": "markdown",
   "id": "1bc41153",
   "metadata": {},
   "source": [
    "# Re.start() & Re.end()"
   ]
  },
  {
   "cell_type": "code",
   "execution_count": 27,
   "id": "feb5ef22",
   "metadata": {},
   "outputs": [
    {
     "name": "stdout",
     "output_type": "stream",
     "text": [
      "0\n",
      "4\n"
     ]
    }
   ],
   "source": [
    "import re\n",
    "a = re.search(r'\\d+','1234')\n",
    "print(a.start())\n",
    "print(a.end())"
   ]
  },
  {
   "cell_type": "markdown",
   "id": "33db00f1",
   "metadata": {},
   "source": [
    "# Regex Substitution"
   ]
  },
  {
   "cell_type": "code",
   "execution_count": 1,
   "id": "8019f911",
   "metadata": {},
   "outputs": [
    {
     "name": "stdout",
     "output_type": "stream",
     "text": [
      "2\n",
      "PK & RK\n",
      "PK  and RK\n",
      "TM & PM\n",
      "TM  and PM\n"
     ]
    }
   ],
   "source": [
    "import re\n",
    "a= int(input())\n",
    "\n",
    "for i in range(0,a):\n",
    "    b = input()\n",
    "    c = re.sub(r\"&\",\"and\",b)\n",
    "    print(c)"
   ]
  },
  {
   "cell_type": "markdown",
   "id": "2c301f98",
   "metadata": {},
   "source": [
    "# Validating Roman Numerals"
   ]
  },
  {
   "cell_type": "code",
   "execution_count": 3,
   "id": "2c5c4a92",
   "metadata": {},
   "outputs": [
    {
     "name": "stdout",
     "output_type": "stream",
     "text": [
      "CDXXI\n",
      "True\n"
     ]
    }
   ],
   "source": [
    "import re\n",
    "a = 'M{0,3}'\n",
    "b = '(C[MD]|D?C{0,3})'\n",
    "c = '(X[CL]|L?X{0,3})'\n",
    "d = '(I[VX]|V?I{0,3})'\n",
    "e = r\"%s%s%s%s$\" % (a, b, c, d)\n",
    "print(str(bool(re.match(e, input()))))"
   ]
  },
  {
   "cell_type": "markdown",
   "id": "57ae2111",
   "metadata": {},
   "source": [
    "# Validating phone numbers"
   ]
  },
  {
   "cell_type": "code",
   "execution_count": 3,
   "id": "2734f4b7",
   "metadata": {},
   "outputs": [
    {
     "name": "stdout",
     "output_type": "stream",
     "text": [
      "Enter how number u mant to verify:2\n",
      "Enter phone number:8692915461\n",
      "valide number\n",
      "Enter phone number:665544332211\n",
      "not valide number\n"
     ]
    }
   ],
   "source": [
    "import re\n",
    "for _ in range(int(input(\"Enter how number u mant to verify:\"))):\n",
    "    if re.match(r'[789]\\d{9}$',input(\"Enter phone number:\")):   \n",
    "        print('valide number')  \n",
    "    else:  \n",
    "        print('not valide number')"
   ]
  },
  {
   "cell_type": "markdown",
   "id": "c3e53aea",
   "metadata": {},
   "source": [
    "# Validating and Parsing Email Addresses"
   ]
  },
  {
   "cell_type": "code",
   "execution_count": 4,
   "id": "78ce3069",
   "metadata": {},
   "outputs": [
    {
     "name": "stdout",
     "output_type": "stream",
     "text": [
      "Enter no.of email u want to validate:1\n",
      "Enter email id:kashidprathamesh12@gmail.com\n",
      "kashidprathamesh12@gmail.com  is valide email\n"
     ]
    }
   ],
   "source": [
    "import re\n",
    "import email.utils\n",
    "for _ in range(int(input(\"Enter no.of email u want to validate:\"))):\n",
    "    a = input(\"Enter email id:\")\n",
    "    u = email.utils.parseaddr(a)\n",
    "    if re.search(\"^[a-z][\\w.-]+@[a-z]+\\.[a-z]{1,3}$\",u[-1],re.I):\n",
    "        print(a,\" is valide email\")\n",
    "    else:\n",
    "        print(a,\" is not valide email\")"
   ]
  },
  {
   "cell_type": "markdown",
   "id": "a08e95f1",
   "metadata": {},
   "source": [
    "# Hex Color Code"
   ]
  },
  {
   "cell_type": "code",
   "execution_count": 5,
   "id": "a4d8a4f6",
   "metadata": {},
   "outputs": [
    {
     "name": "stdout",
     "output_type": "stream",
     "text": [
      "how many input u want give:1\n",
      "11 #BED {     color: #FfFdF8; background-color:#aef;     font-size: 123px;     background: -webkit-linear-gradient(top, #f9f9f9, #fff); }\n"
     ]
    }
   ],
   "source": [
    "import re\n",
    "a = int(input(\"how many input u want give:\"))\n",
    "b = False\n",
    "for _ in range(a):\n",
    "    c = input()\n",
    "    if '{' in c:\n",
    "        b = True\n",
    "    elif '}' in c:\n",
    "        b = False\n",
    "    elif b:\n",
    "        for color in re.findall('#[0-9a-fA-F]{3,6}', c):\n",
    "            print(color)       "
   ]
  },
  {
   "cell_type": "markdown",
   "id": "cf78a9fb",
   "metadata": {},
   "source": [
    "# HTML Parser - Part 1"
   ]
  },
  {
   "cell_type": "code",
   "execution_count": 4,
   "id": "975e93ba",
   "metadata": {},
   "outputs": [
    {
     "name": "stdout",
     "output_type": "stream",
     "text": [
      "how many input u want give:1\n",
      "write ur html code:<html><head><title>HTML Parser - I</title></head> <body data-modal-target class='1'><h1>PrathameshKashid</h1><br /></body></html>\n",
      "Start : html\n",
      "Start : head\n",
      "Start : title\n",
      "End   : title\n",
      "End   : head\n",
      "Start : body\n",
      "-> data-modal-target > None\n",
      "-> class > 1\n",
      "Start : h1\n",
      "End   : h1\n",
      "Empty : br\n",
      "End   : body\n",
      "End   : html\n"
     ]
    }
   ],
   "source": [
    "from html.parser import HTMLParser\n",
    "class MyHTMLParser(HTMLParser):\n",
    "    def handle_starttag(self, tag, attrs):        \n",
    "        print ('Start :',tag)\n",
    "        for ele in attrs:\n",
    "            print ('->',ele[0],'>',ele[1])\n",
    "            \n",
    "    def handle_endtag(self, tag):\n",
    "        print ('End   :',tag)\n",
    "        \n",
    "    def handle_startendtag(self, tag, attrs):\n",
    "        print ('Empty :',tag)\n",
    "        for ele in attrs:\n",
    "            print ('->',ele[0],'>',ele[1])\n",
    "            \n",
    "MyParser = MyHTMLParser()\n",
    "MyParser.feed(''.join([input(\"write ur html code:\").strip() for _ in range(int(input(\"how many input u want give:\")))]))"
   ]
  },
  {
   "cell_type": "markdown",
   "id": "82cab8ba",
   "metadata": {},
   "source": [
    "# HTML Parser - Part 2"
   ]
  },
  {
   "cell_type": "code",
   "execution_count": 11,
   "id": "35081d9f",
   "metadata": {},
   "outputs": [
    {
     "name": "stdout",
     "output_type": "stream",
     "text": [
      "how many input u want give:1\n",
      "write ur html code:<html><head><title>HTML Parser -II</title></head> <body data-modal-target class='1'><h1>PrathameshKashid</h1><br /></body></html>\n",
      ">>> Data\n",
      "HTML Parser -II\n",
      ">>> Data\n",
      " \n",
      ">>> Data\n",
      "PrathameshKashid\n"
     ]
    }
   ],
   "source": [
    "from html.parser import HTMLParser\n",
    "html = \"\"\n",
    "class MyHTMLParser(HTMLParser):\n",
    "    def handle_comment(self,data):\n",
    "        if('\\n' in data):\n",
    "            print(\">>> Multi-line Comment\")\n",
    "        else:\n",
    "            print(\">>> Single-line Comment\")\n",
    "        print(data)\n",
    "    def handle_data(self,data):\n",
    "        if(data != '\\n'):\n",
    "            print(\">>> Data\")\n",
    "            print(data)\n",
    "             \n",
    "for i in range(int(input(\"how many input u want give:\"))):\n",
    "    html += input(\"write ur html code:\").rstrip()\n",
    "    html += '\\n' \n",
    "parser = MyHTMLParser()\n",
    "parser.feed(html)\n",
    "parser.close()"
   ]
  },
  {
   "cell_type": "markdown",
   "id": "e4b45680",
   "metadata": {},
   "source": [
    "# Detect HTML Tags, Attributes and Attribute Values"
   ]
  },
  {
   "cell_type": "code",
   "execution_count": 12,
   "id": "8620aa00",
   "metadata": {},
   "outputs": [
    {
     "name": "stdout",
     "output_type": "stream",
     "text": [
      "how many input u want give:1\n",
      "write ur html code:<html><head><title> Detect HTML Tags, Attributes and Attribute Values </title></head> <body data-modal-target class='1'><h1>PrathameshKashid</h1><br /></body></html>\n",
      "html\n",
      "head\n",
      "title\n",
      "body\n",
      "-> data-modal-target > None\n",
      "-> class > 1\n",
      "h1\n",
      "br\n"
     ]
    }
   ],
   "source": [
    "from html.parser import HTMLParser\n",
    "\n",
    "class MyHTMLParser(HTMLParser):\n",
    "    def handle_starttag(self, tag, attrs):\n",
    "        print(tag)\n",
    "        [print('-> {} > {}'.format(*attr)) for attr in attrs]\n",
    "html = '\\n'.join([input(\"write ur html code:\") for _ in range(int(input(\"how many input u want give:\")))])\n",
    "parser = MyHTMLParser()\n",
    "parser.feed(html)\n",
    "parser.close()"
   ]
  },
  {
   "cell_type": "markdown",
   "id": "e4bbb4f2",
   "metadata": {},
   "source": [
    "# Validating UID"
   ]
  },
  {
   "cell_type": "code",
   "execution_count": 10,
   "id": "1bdde7dd",
   "metadata": {},
   "outputs": [
    {
     "name": "stdout",
     "output_type": "stream",
     "text": [
      "how many input u want give:1\n",
      "write ur html code:<html><head><title>HTML Parser - I</title></head> <body data-modal-target class='1'><h1>PrathameshKashid</h1><br /></body></html>\n",
      "Invalid\n"
     ]
    }
   ],
   "source": [
    "import re\n",
    "\n",
    "for _ in range(int(input(\"how many input u want give:\"))):\n",
    "    u = ''.join(sorted(input(\"write ur html code:\")))\n",
    "    try:\n",
    "        assert re.search(r'[A-Z]{2}', u)\n",
    "        assert re.search(r'\\d\\d\\d', u)\n",
    "        assert not re.search(r'[^a-zA-Z0-9]', u)\n",
    "        assert not re.search(r'(.)\\1', u)\n",
    "        assert len(u) == 10\n",
    "    except:\n",
    "        print('Invalid')\n",
    "    else:\n",
    "        print('Valid')"
   ]
  },
  {
   "cell_type": "markdown",
   "id": "abae1a78",
   "metadata": {},
   "source": [
    "# Validating Credit Card Numbers"
   ]
  },
  {
   "cell_type": "code",
   "execution_count": 1,
   "id": "acdaf1f0",
   "metadata": {},
   "outputs": [
    {
     "name": "stdout",
     "output_type": "stream",
     "text": [
      "how many input u want give:1\n",
      "Enter credit card number:4253625879615786\n",
      "Valid\n"
     ]
    }
   ],
   "source": [
    "import re\n",
    "a= re.compile(\n",
    "    r\"^\"\n",
    "    r\"(?!.*(\\d)(-?\\1){3})\"\n",
    "    r\"[456]\"\n",
    "    r\"\\d{3}\"\n",
    "    r\"(?:-?\\d{4}){3}\"\n",
    "    r\"$\")\n",
    "for _ in range(int(input(\"how many input u want give:\").strip())):\n",
    "    print(\"Valid\" if a.search(input(\"Enter credit card number:\").strip()) else \"Invalid\")"
   ]
  },
  {
   "cell_type": "markdown",
   "id": "5149bf14",
   "metadata": {},
   "source": [
    "# Validating Postal Codes"
   ]
  },
  {
   "cell_type": "code",
   "execution_count": 4,
   "id": "0fee0c36",
   "metadata": {},
   "outputs": [
    {
     "name": "stdout",
     "output_type": "stream",
     "text": [
      "Enter ur postal code:421306\n",
      "True\n"
     ]
    }
   ],
   "source": [
    "regex_integer_in_range = r\"^[1-9]\\d{5}$\"\n",
    "regex_alternating_repetitive_digit_pair = r\"(\\d)(?=\\d\\1)\"\n",
    "\n",
    "import re\n",
    "a = input(\"Enter ur postal code:\")\n",
    "\n",
    "print (bool(re.match(regex_integer_in_range, a)) \n",
    "and len(re.findall(regex_alternating_repetitive_digit_pair, a)) < 2)"
   ]
  },
  {
   "cell_type": "markdown",
   "id": "e71eedf4",
   "metadata": {},
   "source": [
    "# Matrix Script"
   ]
  },
  {
   "cell_type": "code",
   "execution_count": 8,
   "id": "272aec6b",
   "metadata": {},
   "outputs": [
    {
     "name": "stdout",
     "output_type": "stream",
     "text": [
      "2 2\n",
      "1 2\n",
      "3 4\n",
      "13 \n"
     ]
    }
   ],
   "source": [
    "import re\n",
    "x,y = list(map(int,input().split()))\n",
    "rows =[input() for i in range(x)]\n",
    "text = \"\".join([row[i] for i in range(y) for row in rows])\n",
    "text = re.sub('([A-Za-z1-9])[^A-Za-z1-9]+([A-Za-z1-9])', r'\\1 \\2', text)\n",
    "text = re.sub('  ', ' ', text)\n",
    "print(text)"
   ]
  }
 ],
 "metadata": {
  "kernelspec": {
   "display_name": "Python 3",
   "language": "python",
   "name": "python3"
  },
  "language_info": {
   "codemirror_mode": {
    "name": "ipython",
    "version": 3
   },
   "file_extension": ".py",
   "mimetype": "text/x-python",
   "name": "python",
   "nbconvert_exporter": "python",
   "pygments_lexer": "ipython3",
   "version": "3.8.8"
  }
 },
 "nbformat": 4,
 "nbformat_minor": 5
}
